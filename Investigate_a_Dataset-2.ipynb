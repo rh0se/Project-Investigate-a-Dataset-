{
 "cells": [
  {
   "cell_type": "markdown",
   "metadata": {},
   "source": [
    "\n",
    "# Project: Investigate a Dataset - [Medical Appointment No Shows]\n",
    "\n",
    "## Table of Contents\n",
    "<ul>\n",
    "<li><a href=\"#intro\">Introduction</a></li>\n",
    "<li><a href=\"#wrangling\">Data Wrangling</a></li>\n",
    "<li><a href=\"#eda\">Exploratory Data Analysis</a></li>\n",
    "<li><a href=\"#conclusions\">Conclusions</a></li>\n",
    "</ul>"
   ]
  },
  {
   "cell_type": "markdown",
   "metadata": {},
   "source": [
    "<a id='intro'></a>\n",
    "## Introduction\n",
    "\n",
    "### Dataset Description \n",
    "\n",
    "In this project, I will analysing data from the 100k medical appointments in Brazil which was gotten from Kaggle and in this analysis i will concentrate on finding insights among patients who showed up for a scheduled appointment and how these patients are distinct from those that did not show up for their scheduled appointment.This dataset will also give insights unto why patients do not show up for appointments. Each row represent a patient and they include the following features:\n",
    "<ul>\n",
    "    <li> PatientId: this is the unique identification of each patient</li>\n",
    "<li> AppointmentID: This identifies each appointment</li>\n",
    "<li> Gender: This gives information about the gender of the patient</li>\n",
    "<li> ScheduledDay: the date the patient set up the appointment</li>\n",
    "<li> AppointmentDay: the date of the appointment</li>\n",
    "<li> Age: The age of the patient</li>\n",
    "<li> Neighbourhood: The name of the location of the hospital.</li>\n",
    "<li> Scholarship: Indicates whether or not the patient is enrolled in Brasilian welfare program Bolsa Família.This column says 0 represents False and 1 represents True</li>\n",
    "<li> Hipertension: this specifies if a patient is has hypertension.This column says 0 represents False and 1 represents True</li>\n",
    "<li> Diabetes: this specifies if a patient is has diabetes.This column says 0 represents False and 1 represents True</li>\n",
    "<li> Alcoholism: This shows whether or not a patient has alcoholism. This column says 0 represents False and 1 represents True</li>\n",
    "<li> Handcap:  This shows whether or not a patient has a disability. This column says 0 represents False and 1 represents True</li>\n",
    "<li> SMS_received: this indicates wheather any messages were sent to the patient. This column says 0 represents False and 1 represents True</li>\n",
    "<li> No-show: this shows if a patient shows up to an appointment, its says \"No\" if the patient showed up and \"Yes\" if they did not show up.</li>\n",
    "</ul>\n",
    "These features would be helpful to determine why some patients show up for appointments and others do not\n",
    "\n",
    "\n",
    "\n",
    "### Question(s) for Analysis\n",
    "Some of the questions that will be explored in this analysis are:\n",
    "<ul>\n",
    "    <li> What locations had the hoghest number of patients that showed up? </li>\n",
    "    <li>Features of Patients that showed up to appointments?</li>\n",
    "    <li>What day of the week did most patients show up?</li>\n",
    "    <ul>\n",
    "        Many other questions would also be explored.\n",
    "\n",
    "\n"
   ]
  },
  {
   "cell_type": "code",
   "execution_count": 1,
   "metadata": {},
   "outputs": [],
   "source": [
    "#import statements for all of the packages\n",
    "\n",
    "import pandas as pd\n",
    "import numpy as np\n",
    "import matplotlib.pyplot as plt \n",
    "import seaborn as sns\n",
    "%matplotlib inline\n"
   ]
  },
  {
   "cell_type": "markdown",
   "metadata": {},
   "source": [
    "<a id='wrangling'></a>\n",
    "## Data Wrangling\n",
    "\n",
    "In this section,The dataset will be loaded as a dataframe into the notebook. The name of the the dataframe will be called no_show_df.\n",
    " The dataframe no_show_df would be assessed for cleanliness, and the various methods would be performed on no_show_df to ensure the dataset is cleaned and ready for analysis.\n",
    "\n"
   ]
  },
  {
   "cell_type": "markdown",
   "metadata": {},
   "source": [
    "To load our dataset, the pandas library has a function know as read_csv, this function would be used to load the dataset as the dataframe that would be known as no_show_df."
   ]
  },
  {
   "cell_type": "code",
   "execution_count": 2,
   "metadata": {},
   "outputs": [],
   "source": [
    "no_show_df = pd.read_csv(\"noshowappointments-kagglev2-may-2016 (1).csv\")\n"
   ]
  },
  {
   "cell_type": "code",
   "execution_count": 3,
   "metadata": {},
   "outputs": [
    {
     "data": {
      "text/html": [
       "<div>\n",
       "<style scoped>\n",
       "    .dataframe tbody tr th:only-of-type {\n",
       "        vertical-align: middle;\n",
       "    }\n",
       "\n",
       "    .dataframe tbody tr th {\n",
       "        vertical-align: top;\n",
       "    }\n",
       "\n",
       "    .dataframe thead th {\n",
       "        text-align: right;\n",
       "    }\n",
       "</style>\n",
       "<table border=\"1\" class=\"dataframe\">\n",
       "  <thead>\n",
       "    <tr style=\"text-align: right;\">\n",
       "      <th></th>\n",
       "      <th>PatientId</th>\n",
       "      <th>AppointmentID</th>\n",
       "      <th>Gender</th>\n",
       "      <th>ScheduledDay</th>\n",
       "      <th>AppointmentDay</th>\n",
       "      <th>Age</th>\n",
       "      <th>Neighbourhood</th>\n",
       "      <th>Scholarship</th>\n",
       "      <th>Hipertension</th>\n",
       "      <th>Diabetes</th>\n",
       "      <th>Alcoholism</th>\n",
       "      <th>Handcap</th>\n",
       "      <th>SMS_received</th>\n",
       "      <th>No-show</th>\n",
       "    </tr>\n",
       "  </thead>\n",
       "  <tbody>\n",
       "    <tr>\n",
       "      <th>0</th>\n",
       "      <td>2.987250e+13</td>\n",
       "      <td>5642903</td>\n",
       "      <td>F</td>\n",
       "      <td>2016-04-29T18:38:08Z</td>\n",
       "      <td>2016-04-29T00:00:00Z</td>\n",
       "      <td>62</td>\n",
       "      <td>JARDIM DA PENHA</td>\n",
       "      <td>0</td>\n",
       "      <td>1</td>\n",
       "      <td>0</td>\n",
       "      <td>0</td>\n",
       "      <td>0</td>\n",
       "      <td>0</td>\n",
       "      <td>No</td>\n",
       "    </tr>\n",
       "    <tr>\n",
       "      <th>1</th>\n",
       "      <td>5.589978e+14</td>\n",
       "      <td>5642503</td>\n",
       "      <td>M</td>\n",
       "      <td>2016-04-29T16:08:27Z</td>\n",
       "      <td>2016-04-29T00:00:00Z</td>\n",
       "      <td>56</td>\n",
       "      <td>JARDIM DA PENHA</td>\n",
       "      <td>0</td>\n",
       "      <td>0</td>\n",
       "      <td>0</td>\n",
       "      <td>0</td>\n",
       "      <td>0</td>\n",
       "      <td>0</td>\n",
       "      <td>No</td>\n",
       "    </tr>\n",
       "    <tr>\n",
       "      <th>2</th>\n",
       "      <td>4.262962e+12</td>\n",
       "      <td>5642549</td>\n",
       "      <td>F</td>\n",
       "      <td>2016-04-29T16:19:04Z</td>\n",
       "      <td>2016-04-29T00:00:00Z</td>\n",
       "      <td>62</td>\n",
       "      <td>MATA DA PRAIA</td>\n",
       "      <td>0</td>\n",
       "      <td>0</td>\n",
       "      <td>0</td>\n",
       "      <td>0</td>\n",
       "      <td>0</td>\n",
       "      <td>0</td>\n",
       "      <td>No</td>\n",
       "    </tr>\n",
       "    <tr>\n",
       "      <th>3</th>\n",
       "      <td>8.679512e+11</td>\n",
       "      <td>5642828</td>\n",
       "      <td>F</td>\n",
       "      <td>2016-04-29T17:29:31Z</td>\n",
       "      <td>2016-04-29T00:00:00Z</td>\n",
       "      <td>8</td>\n",
       "      <td>PONTAL DE CAMBURI</td>\n",
       "      <td>0</td>\n",
       "      <td>0</td>\n",
       "      <td>0</td>\n",
       "      <td>0</td>\n",
       "      <td>0</td>\n",
       "      <td>0</td>\n",
       "      <td>No</td>\n",
       "    </tr>\n",
       "    <tr>\n",
       "      <th>4</th>\n",
       "      <td>8.841186e+12</td>\n",
       "      <td>5642494</td>\n",
       "      <td>F</td>\n",
       "      <td>2016-04-29T16:07:23Z</td>\n",
       "      <td>2016-04-29T00:00:00Z</td>\n",
       "      <td>56</td>\n",
       "      <td>JARDIM DA PENHA</td>\n",
       "      <td>0</td>\n",
       "      <td>1</td>\n",
       "      <td>1</td>\n",
       "      <td>0</td>\n",
       "      <td>0</td>\n",
       "      <td>0</td>\n",
       "      <td>No</td>\n",
       "    </tr>\n",
       "  </tbody>\n",
       "</table>\n",
       "</div>"
      ],
      "text/plain": [
       "      PatientId  AppointmentID Gender          ScheduledDay  \\\n",
       "0  2.987250e+13        5642903      F  2016-04-29T18:38:08Z   \n",
       "1  5.589978e+14        5642503      M  2016-04-29T16:08:27Z   \n",
       "2  4.262962e+12        5642549      F  2016-04-29T16:19:04Z   \n",
       "3  8.679512e+11        5642828      F  2016-04-29T17:29:31Z   \n",
       "4  8.841186e+12        5642494      F  2016-04-29T16:07:23Z   \n",
       "\n",
       "         AppointmentDay  Age      Neighbourhood  Scholarship  Hipertension  \\\n",
       "0  2016-04-29T00:00:00Z   62    JARDIM DA PENHA            0             1   \n",
       "1  2016-04-29T00:00:00Z   56    JARDIM DA PENHA            0             0   \n",
       "2  2016-04-29T00:00:00Z   62      MATA DA PRAIA            0             0   \n",
       "3  2016-04-29T00:00:00Z    8  PONTAL DE CAMBURI            0             0   \n",
       "4  2016-04-29T00:00:00Z   56    JARDIM DA PENHA            0             1   \n",
       "\n",
       "   Diabetes  Alcoholism  Handcap  SMS_received No-show  \n",
       "0         0           0        0             0      No  \n",
       "1         0           0        0             0      No  \n",
       "2         0           0        0             0      No  \n",
       "3         0           0        0             0      No  \n",
       "4         1           0        0             0      No  "
      ]
     },
     "execution_count": 3,
     "metadata": {},
     "output_type": "execute_result"
    }
   ],
   "source": [
    "no_show_df.head()"
   ]
  },
  {
   "cell_type": "markdown",
   "metadata": {},
   "source": [
    "To get the number of rows and colums that the dataset contains the shape attribute will be used "
   ]
  },
  {
   "cell_type": "code",
   "execution_count": 4,
   "metadata": {},
   "outputs": [
    {
     "data": {
      "text/plain": [
       "(110527, 14)"
      ]
     },
     "execution_count": 4,
     "metadata": {},
     "output_type": "execute_result"
    }
   ],
   "source": [
    "no_show_df.shape"
   ]
  },
  {
   "cell_type": "markdown",
   "metadata": {},
   "source": [
    "The dataset contains 110527 rows and 14 columns.\n",
    "\n",
    "To inspect the dataset to know the the datatypes contained in each column and also know if they contain the correct datatype, the pandas funtion info is used."
   ]
  },
  {
   "cell_type": "code",
   "execution_count": 5,
   "metadata": {},
   "outputs": [
    {
     "name": "stdout",
     "output_type": "stream",
     "text": [
      "<class 'pandas.core.frame.DataFrame'>\n",
      "RangeIndex: 110527 entries, 0 to 110526\n",
      "Data columns (total 14 columns):\n",
      " #   Column          Non-Null Count   Dtype  \n",
      "---  ------          --------------   -----  \n",
      " 0   PatientId       110527 non-null  float64\n",
      " 1   AppointmentID   110527 non-null  int64  \n",
      " 2   Gender          110527 non-null  object \n",
      " 3   ScheduledDay    110527 non-null  object \n",
      " 4   AppointmentDay  110527 non-null  object \n",
      " 5   Age             110527 non-null  int64  \n",
      " 6   Neighbourhood   110527 non-null  object \n",
      " 7   Scholarship     110527 non-null  int64  \n",
      " 8   Hipertension    110527 non-null  int64  \n",
      " 9   Diabetes        110527 non-null  int64  \n",
      " 10  Alcoholism      110527 non-null  int64  \n",
      " 11  Handcap         110527 non-null  int64  \n",
      " 12  SMS_received    110527 non-null  int64  \n",
      " 13  No-show         110527 non-null  object \n",
      "dtypes: float64(1), int64(8), object(5)\n",
      "memory usage: 11.8+ MB\n"
     ]
    }
   ],
   "source": [
    "no_show_df.info()"
   ]
  },
  {
   "cell_type": "markdown",
   "metadata": {},
   "source": [
    "From the informaton gotten above, only  ScheduledDay and AppointmentDay columns have the the wrong datatype because both columns are meant to have values of datetime objects but their values are strings.\n",
    "From the output from above, it can be seen that all the columns have complete entries.\n",
    "To be certain, we can use use the isnull pandas function to check."
   ]
  },
  {
   "cell_type": "code",
   "execution_count": 6,
   "metadata": {},
   "outputs": [
    {
     "data": {
      "text/plain": [
       "PatientId         False\n",
       "AppointmentID     False\n",
       "Gender            False\n",
       "ScheduledDay      False\n",
       "AppointmentDay    False\n",
       "Age               False\n",
       "Neighbourhood     False\n",
       "Scholarship       False\n",
       "Hipertension      False\n",
       "Diabetes          False\n",
       "Alcoholism        False\n",
       "Handcap           False\n",
       "SMS_received      False\n",
       "No-show           False\n",
       "dtype: bool"
      ]
     },
     "execution_count": 6,
     "metadata": {},
     "output_type": "execute_result"
    }
   ],
   "source": [
    "no_show_df.isnull().all()"
   ]
  },
  {
   "cell_type": "markdown",
   "metadata": {},
   "source": [
    "From the output given above, it is very clear that all columns in this dataset does  not have any null value.\n",
    "\n",
    "\n",
    "Next, checking for duplicates, this is carried out by using the duplicated function"
   ]
  },
  {
   "cell_type": "code",
   "execution_count": 7,
   "metadata": {},
   "outputs": [
    {
     "data": {
      "text/plain": [
       "False"
      ]
     },
     "execution_count": 7,
     "metadata": {},
     "output_type": "execute_result"
    }
   ],
   "source": [
    "no_show_df.duplicated().any()"
   ]
  },
  {
   "cell_type": "markdown",
   "metadata": {},
   "source": [
    "There are no duplicates in the dataset.\n",
    "\n",
    "\n",
    "Final assessment that would be done on the dataset is to get descriptive statistics information about the entire dataset. The function that would achieve this, is the describe function."
   ]
  },
  {
   "cell_type": "code",
   "execution_count": 8,
   "metadata": {},
   "outputs": [
    {
     "data": {
      "text/html": [
       "<div>\n",
       "<style scoped>\n",
       "    .dataframe tbody tr th:only-of-type {\n",
       "        vertical-align: middle;\n",
       "    }\n",
       "\n",
       "    .dataframe tbody tr th {\n",
       "        vertical-align: top;\n",
       "    }\n",
       "\n",
       "    .dataframe thead th {\n",
       "        text-align: right;\n",
       "    }\n",
       "</style>\n",
       "<table border=\"1\" class=\"dataframe\">\n",
       "  <thead>\n",
       "    <tr style=\"text-align: right;\">\n",
       "      <th></th>\n",
       "      <th>PatientId</th>\n",
       "      <th>AppointmentID</th>\n",
       "      <th>Age</th>\n",
       "      <th>Scholarship</th>\n",
       "      <th>Hipertension</th>\n",
       "      <th>Diabetes</th>\n",
       "      <th>Alcoholism</th>\n",
       "      <th>Handcap</th>\n",
       "      <th>SMS_received</th>\n",
       "    </tr>\n",
       "  </thead>\n",
       "  <tbody>\n",
       "    <tr>\n",
       "      <th>count</th>\n",
       "      <td>1.105270e+05</td>\n",
       "      <td>1.105270e+05</td>\n",
       "      <td>110527.000000</td>\n",
       "      <td>110527.000000</td>\n",
       "      <td>110527.000000</td>\n",
       "      <td>110527.000000</td>\n",
       "      <td>110527.000000</td>\n",
       "      <td>110527.000000</td>\n",
       "      <td>110527.000000</td>\n",
       "    </tr>\n",
       "    <tr>\n",
       "      <th>mean</th>\n",
       "      <td>1.474963e+14</td>\n",
       "      <td>5.675305e+06</td>\n",
       "      <td>37.088874</td>\n",
       "      <td>0.098266</td>\n",
       "      <td>0.197246</td>\n",
       "      <td>0.071865</td>\n",
       "      <td>0.030400</td>\n",
       "      <td>0.022248</td>\n",
       "      <td>0.321026</td>\n",
       "    </tr>\n",
       "    <tr>\n",
       "      <th>std</th>\n",
       "      <td>2.560949e+14</td>\n",
       "      <td>7.129575e+04</td>\n",
       "      <td>23.110205</td>\n",
       "      <td>0.297675</td>\n",
       "      <td>0.397921</td>\n",
       "      <td>0.258265</td>\n",
       "      <td>0.171686</td>\n",
       "      <td>0.161543</td>\n",
       "      <td>0.466873</td>\n",
       "    </tr>\n",
       "    <tr>\n",
       "      <th>min</th>\n",
       "      <td>3.921784e+04</td>\n",
       "      <td>5.030230e+06</td>\n",
       "      <td>-1.000000</td>\n",
       "      <td>0.000000</td>\n",
       "      <td>0.000000</td>\n",
       "      <td>0.000000</td>\n",
       "      <td>0.000000</td>\n",
       "      <td>0.000000</td>\n",
       "      <td>0.000000</td>\n",
       "    </tr>\n",
       "    <tr>\n",
       "      <th>25%</th>\n",
       "      <td>4.172614e+12</td>\n",
       "      <td>5.640286e+06</td>\n",
       "      <td>18.000000</td>\n",
       "      <td>0.000000</td>\n",
       "      <td>0.000000</td>\n",
       "      <td>0.000000</td>\n",
       "      <td>0.000000</td>\n",
       "      <td>0.000000</td>\n",
       "      <td>0.000000</td>\n",
       "    </tr>\n",
       "    <tr>\n",
       "      <th>50%</th>\n",
       "      <td>3.173184e+13</td>\n",
       "      <td>5.680573e+06</td>\n",
       "      <td>37.000000</td>\n",
       "      <td>0.000000</td>\n",
       "      <td>0.000000</td>\n",
       "      <td>0.000000</td>\n",
       "      <td>0.000000</td>\n",
       "      <td>0.000000</td>\n",
       "      <td>0.000000</td>\n",
       "    </tr>\n",
       "    <tr>\n",
       "      <th>75%</th>\n",
       "      <td>9.439172e+13</td>\n",
       "      <td>5.725524e+06</td>\n",
       "      <td>55.000000</td>\n",
       "      <td>0.000000</td>\n",
       "      <td>0.000000</td>\n",
       "      <td>0.000000</td>\n",
       "      <td>0.000000</td>\n",
       "      <td>0.000000</td>\n",
       "      <td>1.000000</td>\n",
       "    </tr>\n",
       "    <tr>\n",
       "      <th>max</th>\n",
       "      <td>9.999816e+14</td>\n",
       "      <td>5.790484e+06</td>\n",
       "      <td>115.000000</td>\n",
       "      <td>1.000000</td>\n",
       "      <td>1.000000</td>\n",
       "      <td>1.000000</td>\n",
       "      <td>1.000000</td>\n",
       "      <td>4.000000</td>\n",
       "      <td>1.000000</td>\n",
       "    </tr>\n",
       "  </tbody>\n",
       "</table>\n",
       "</div>"
      ],
      "text/plain": [
       "          PatientId  AppointmentID            Age    Scholarship  \\\n",
       "count  1.105270e+05   1.105270e+05  110527.000000  110527.000000   \n",
       "mean   1.474963e+14   5.675305e+06      37.088874       0.098266   \n",
       "std    2.560949e+14   7.129575e+04      23.110205       0.297675   \n",
       "min    3.921784e+04   5.030230e+06      -1.000000       0.000000   \n",
       "25%    4.172614e+12   5.640286e+06      18.000000       0.000000   \n",
       "50%    3.173184e+13   5.680573e+06      37.000000       0.000000   \n",
       "75%    9.439172e+13   5.725524e+06      55.000000       0.000000   \n",
       "max    9.999816e+14   5.790484e+06     115.000000       1.000000   \n",
       "\n",
       "        Hipertension       Diabetes     Alcoholism        Handcap  \\\n",
       "count  110527.000000  110527.000000  110527.000000  110527.000000   \n",
       "mean        0.197246       0.071865       0.030400       0.022248   \n",
       "std         0.397921       0.258265       0.171686       0.161543   \n",
       "min         0.000000       0.000000       0.000000       0.000000   \n",
       "25%         0.000000       0.000000       0.000000       0.000000   \n",
       "50%         0.000000       0.000000       0.000000       0.000000   \n",
       "75%         0.000000       0.000000       0.000000       0.000000   \n",
       "max         1.000000       1.000000       1.000000       4.000000   \n",
       "\n",
       "        SMS_received  \n",
       "count  110527.000000  \n",
       "mean        0.321026  \n",
       "std         0.466873  \n",
       "min         0.000000  \n",
       "25%         0.000000  \n",
       "50%         0.000000  \n",
       "75%         1.000000  \n",
       "max         1.000000  "
      ]
     },
     "execution_count": 8,
     "metadata": {},
     "output_type": "execute_result"
    }
   ],
   "source": [
    "no_show_df.describe()"
   ]
  },
  {
   "cell_type": "markdown",
   "metadata": {},
   "source": [
    "From the information given above, it is can be seen the mean age is 37.088874, the maximum value of age is 115 which is too high for a person but there is a negative value as the minimum age which can not be right because a person can not have a negative value as age. Also the maximum vale in the handcap column which also is an error, because the only values meant to be in that column are \"0\" and \"1\". The rest of the dataset seems to be okay"
   ]
  },
  {
   "cell_type": "markdown",
   "metadata": {},
   "source": [
    "\n",
    "### Data Cleaning\n",
    "After accessing and inspecting the dataset gotten from kaggle, there is need to clean the data this will make the analysis more accurate. some of the problems that i am going to solve with data cleaning are incorrect data type, wrong values and also make column headers uniform in format and correct spelling.\n",
    "I will also be adding a column 'day_of_appointment' to the dataframe.\n",
    "\n",
    "First the spelling of \"hipertension\" column is wrong, so that will be corrected using the rename function to give the right spelling. \n",
    " "
   ]
  },
  {
   "cell_type": "code",
   "execution_count": 9,
   "metadata": {},
   "outputs": [
    {
     "data": {
      "text/plain": [
       "Index(['PatientId', 'AppointmentID', 'Gender', 'ScheduledDay',\n",
       "       'AppointmentDay', 'Age', 'Neighbourhood', 'Scholarship', 'Hypertension',\n",
       "       'Diabetes', 'Alcoholism', 'Handcap', 'SMS_received', 'No-show'],\n",
       "      dtype='object')"
      ]
     },
     "execution_count": 9,
     "metadata": {},
     "output_type": "execute_result"
    }
   ],
   "source": [
    "no_show_df.rename(columns = {\"Hipertension\":\"Hypertension\"}, inplace= True)\n",
    "no_show_df.columns"
   ]
  },
  {
   "cell_type": "markdown",
   "metadata": {},
   "source": [
    "To make the column names more readable, its best to separate columns names with two words with an underscore because the joining the two words together like the way its done in the dataset can be a bit confusing to read. the column names with these problem are PatientId', 'AppointmentID', ScheduledDay' and 'AppointmentDay'. The rename method would be used to seeparate the columns with an underscore."
   ]
  },
  {
   "cell_type": "code",
   "execution_count": 10,
   "metadata": {},
   "outputs": [
    {
     "data": {
      "text/plain": [
       "Index(['Patient_Id', 'Appointment_ID', 'Gender', 'Scheduled_Day',\n",
       "       'Appointment_Day', 'Age', 'Neighbourhood', 'Scholarship',\n",
       "       'Hypertension', 'Diabetes', 'Alcoholism', 'Handcap', 'SMS_received',\n",
       "       'No-show'],\n",
       "      dtype='object')"
      ]
     },
     "execution_count": 10,
     "metadata": {},
     "output_type": "execute_result"
    }
   ],
   "source": [
    "no_show_df.rename(columns={\"PatientId\":\"Patient_Id\", \"AppointmentID\":\"Appointment_ID\", \"ScheduledDay\":\"Scheduled_Day\", \"AppointmentDay\":\"Appointment_Day\"}, inplace=True)\n",
    "no_show_df.columns"
   ]
  },
  {
   "cell_type": "markdown",
   "metadata": {},
   "source": [
    "Also, i think changing the hypen in the \"No-show\" column name would be best to replace it an underscore. Also like all the column names to be in lowercase. all these will be achieved with the rename function"
   ]
  },
  {
   "cell_type": "code",
   "execution_count": 11,
   "metadata": {},
   "outputs": [
    {
     "data": {
      "text/plain": [
       "Index(['patient_id', 'appointment_id', 'gender', 'scheduled_day',\n",
       "       'appointment_day', 'age', 'neighbourhood', 'scholarship',\n",
       "       'hypertension', 'diabetes', 'alcoholism', 'handcap', 'sms_received',\n",
       "       'no_show'],\n",
       "      dtype='object')"
      ]
     },
     "execution_count": 11,
     "metadata": {},
     "output_type": "execute_result"
    }
   ],
   "source": [
    "no_show_df.rename(columns=lambda x: x.lower().replace(\"-\",\"_\"), inplace=True)\n",
    "no_show_df.columns"
   ]
  },
  {
   "cell_type": "markdown",
   "metadata": {},
   "source": [
    "Another issue found in the age column is the presence of a negative value since age can not be negative and the source of the error is not known. whats best for the analysis is dropping the row that has the negative value of age."
   ]
  },
  {
   "cell_type": "code",
   "execution_count": 12,
   "metadata": {},
   "outputs": [
    {
     "data": {
      "text/plain": [
       "0"
      ]
     },
     "execution_count": 12,
     "metadata": {},
     "output_type": "execute_result"
    }
   ],
   "source": [
    "no_show_df.drop(no_show_df[no_show_df[\"age\"] <= -1].index, inplace=True)\n",
    "no_show_df.age.min()"
   ]
  },
  {
   "cell_type": "markdown",
   "metadata": {},
   "source": [
    "After checking if the negatives values have been dropped, another problem is that there are patients with zero (0) as their age. These patients need to be dropped from the dataset."
   ]
  },
  {
   "cell_type": "code",
   "execution_count": 13,
   "metadata": {},
   "outputs": [
    {
     "data": {
      "text/plain": [
       "1"
      ]
     },
     "execution_count": 13,
     "metadata": {},
     "output_type": "execute_result"
    }
   ],
   "source": [
    "no_show_df.drop(no_show_df[no_show_df[\"age\"] == 0].index, inplace=True)\n",
    "no_show_df.age.min()"
   ]
  },
  {
   "cell_type": "markdown",
   "metadata": {},
   "source": [
    "The maximum value in the age was 115 which is also very high for a human. i do not know for certain that this was not an error, i am also dropping the row too."
   ]
  },
  {
   "cell_type": "code",
   "execution_count": 14,
   "metadata": {},
   "outputs": [
    {
     "data": {
      "text/plain": [
       "102"
      ]
     },
     "execution_count": 14,
     "metadata": {},
     "output_type": "execute_result"
    }
   ],
   "source": [
    "no_show_df.drop(no_show_df[no_show_df[\"age\"] == 115].index, inplace=True)\n",
    "no_show_df.age.max()"
   ]
  },
  {
   "cell_type": "markdown",
   "metadata": {},
   "source": [
    "after dropping the column with the maximum age of 115, the next maximum age is 102, which is also very high. So that row would be dropped."
   ]
  },
  {
   "cell_type": "code",
   "execution_count": 15,
   "metadata": {},
   "outputs": [
    {
     "data": {
      "text/plain": [
       "100"
      ]
     },
     "execution_count": 15,
     "metadata": {},
     "output_type": "execute_result"
    }
   ],
   "source": [
    "no_show_df.drop(no_show_df[no_show_df[\"age\"] == no_show_df.age.max()].index, inplace=True)\n",
    "no_show_df.age.max()"
   ]
  },
  {
   "cell_type": "markdown",
   "metadata": {},
   "source": [
    "The max age is 100, which is reasonable.\n",
    "\n",
    "From exploring the dataset, 'scheduled_day' and 'appointment_day' appears to be in the wrong datatype. So will have to convert it from a string object to a datetime object, using the pandas to_datetime method."
   ]
  },
  {
   "cell_type": "code",
   "execution_count": 16,
   "metadata": {},
   "outputs": [
    {
     "name": "stdout",
     "output_type": "stream",
     "text": [
      "<class 'pandas.core.frame.DataFrame'>\n",
      "Int64Index: 106980 entries, 0 to 110526\n",
      "Data columns (total 14 columns):\n",
      " #   Column           Non-Null Count   Dtype              \n",
      "---  ------           --------------   -----              \n",
      " 0   patient_id       106980 non-null  float64            \n",
      " 1   appointment_id   106980 non-null  int64              \n",
      " 2   gender           106980 non-null  object             \n",
      " 3   scheduled_day    106980 non-null  datetime64[ns, UTC]\n",
      " 4   appointment_day  106980 non-null  datetime64[ns, UTC]\n",
      " 5   age              106980 non-null  int64              \n",
      " 6   neighbourhood    106980 non-null  object             \n",
      " 7   scholarship      106980 non-null  int64              \n",
      " 8   hypertension     106980 non-null  int64              \n",
      " 9   diabetes         106980 non-null  int64              \n",
      " 10  alcoholism       106980 non-null  int64              \n",
      " 11  handcap          106980 non-null  int64              \n",
      " 12  sms_received     106980 non-null  int64              \n",
      " 13  no_show          106980 non-null  object             \n",
      "dtypes: datetime64[ns, UTC](2), float64(1), int64(8), object(3)\n",
      "memory usage: 12.2+ MB\n"
     ]
    }
   ],
   "source": [
    "no_show_df[\"appointment_day\"] = pd.to_datetime(no_show_df[\"appointment_day\"])\n",
    "no_show_df[\"scheduled_day\"] =pd.to_datetime(no_show_df[\"scheduled_day\"])\n",
    "no_show_df.info()"
   ]
  },
  {
   "cell_type": "markdown",
   "metadata": {},
   "source": [
    "Since the question \"what day of the week did most patients show up?\" a column that represents the day of the week of appointment day will created and will be called \"day_of_appointment\". The dt.day_name method that returns the day names of the Series or DatetimeIndex with specified locale. This method would be used to get the day of the week for each datatime64 value in the appointment_day column."
   ]
  },
  {
   "cell_type": "code",
   "execution_count": 17,
   "metadata": {},
   "outputs": [
    {
     "data": {
      "text/plain": [
       "0          Friday\n",
       "1          Friday\n",
       "2          Friday\n",
       "3          Friday\n",
       "4          Friday\n",
       "           ...   \n",
       "110522    Tuesday\n",
       "110523    Tuesday\n",
       "110524    Tuesday\n",
       "110525    Tuesday\n",
       "110526    Tuesday\n",
       "Name: day_of_appointment, Length: 106980, dtype: object"
      ]
     },
     "execution_count": 17,
     "metadata": {},
     "output_type": "execute_result"
    }
   ],
   "source": [
    "no_show_df[\"day_of_appointment\"] = no_show_df[\"appointment_day\"].dt.day_name()\n",
    "no_show_df[\"day_of_appointment\"]"
   ]
  },
  {
   "cell_type": "code",
   "execution_count": 18,
   "metadata": {},
   "outputs": [
    {
     "data": {
      "text/plain": [
       "Index(['patient_id', 'appointment_id', 'gender', 'scheduled_day',\n",
       "       'appointment_day', 'age', 'neighbourhood', 'scholarship',\n",
       "       'hypertension', 'diabetes', 'alcoholism', 'handcap', 'sms_received',\n",
       "       'no_show', 'day_of_appointment'],\n",
       "      dtype='object')"
      ]
     },
     "execution_count": 18,
     "metadata": {},
     "output_type": "execute_result"
    }
   ],
   "source": [
    "no_show_df.columns"
   ]
  },
  {
   "cell_type": "markdown",
   "metadata": {},
   "source": [
    "From using the pandas columns attribute it can be seen that the column 'day_of_appointment' has been added to the data frame and there a total of 15 columns in the dataframe."
   ]
  },
  {
   "cell_type": "markdown",
   "metadata": {},
   "source": [
    "We will also have to drop the row where the handcap column has a value of 4 and greater than 1"
   ]
  },
  {
   "cell_type": "code",
   "execution_count": 19,
   "metadata": {},
   "outputs": [
    {
     "data": {
      "text/plain": [
       "1"
      ]
     },
     "execution_count": 19,
     "metadata": {},
     "output_type": "execute_result"
    }
   ],
   "source": [
    "no_show_df.drop(no_show_df[no_show_df[\"handcap\"] > 1].index, inplace=True)\n",
    "no_show_df[\"handcap\"].max()"
   ]
  },
  {
   "cell_type": "code",
   "execution_count": 20,
   "metadata": {},
   "outputs": [
    {
     "data": {
      "text/plain": [
       "(106781, 15)"
      ]
     },
     "execution_count": 20,
     "metadata": {},
     "output_type": "execute_result"
    }
   ],
   "source": [
    "no_show_df.shape"
   ]
  },
  {
   "cell_type": "markdown",
   "metadata": {},
   "source": [
    "After cleaning the data, The dataset contains 106781 rows and 15 columns."
   ]
  },
  {
   "cell_type": "markdown",
   "metadata": {},
   "source": [
    "<a id='eda'></a>\n",
    "## Exploratory Data Analysis\n",
    " Now that the data has been trimmed and cleaned, the next step is Exploratory Data Analysis. \n",
    "\n",
    "### Research Question 1: WHAT IS THE NUMBER OF MALE AND FEMALE PATIENTS?"
   ]
  },
  {
   "cell_type": "code",
   "execution_count": 21,
   "metadata": {},
   "outputs": [
    {
     "data": {
      "text/plain": [
       "F    70002\n",
       "M    36779\n",
       "Name: gender, dtype: int64"
      ]
     },
     "execution_count": 21,
     "metadata": {},
     "output_type": "execute_result"
    }
   ],
   "source": [
    "no_show_df.gender.value_counts()"
   ]
  },
  {
   "cell_type": "markdown",
   "metadata": {},
   "source": [
    "Using value_counts on the gender column, it can be seen that there more females than males in the dataset. The number of female patients is 70,111 and that of male patients is 36,869 "
   ]
  },
  {
   "cell_type": "markdown",
   "metadata": {},
   "source": [
    "### Research Question 2 :DID PATIENTS WITH SCHOLARSHIPS SHOW UP MORE FOR APPOINTMENTS?\n",
    "\n",
    "To differentiate between rows of of patients who showed up and those that did not, assigned variabes which are showed_up and did_not_show."
   ]
  },
  {
   "cell_type": "code",
   "execution_count": 22,
   "metadata": {},
   "outputs": [],
   "source": [
    "showed_up = no_show_df.no_show == \"No\"\n",
    "did_not_show =  no_show_df.no_show == \"Yes\""
   ]
  },
  {
   "cell_type": "code",
   "execution_count": 23,
   "metadata": {},
   "outputs": [
    {
     "data": {
      "text/html": [
       "<div>\n",
       "<style scoped>\n",
       "    .dataframe tbody tr th:only-of-type {\n",
       "        vertical-align: middle;\n",
       "    }\n",
       "\n",
       "    .dataframe tbody tr th {\n",
       "        vertical-align: top;\n",
       "    }\n",
       "\n",
       "    .dataframe thead th {\n",
       "        text-align: right;\n",
       "    }\n",
       "</style>\n",
       "<table border=\"1\" class=\"dataframe\">\n",
       "  <thead>\n",
       "    <tr style=\"text-align: right;\">\n",
       "      <th></th>\n",
       "      <th>scholarship</th>\n",
       "      <th>no_show</th>\n",
       "      <th>count</th>\n",
       "    </tr>\n",
       "  </thead>\n",
       "  <tbody>\n",
       "    <tr>\n",
       "      <th>0</th>\n",
       "      <td>0</td>\n",
       "      <td>No</td>\n",
       "      <td>76924</td>\n",
       "    </tr>\n",
       "    <tr>\n",
       "      <th>1</th>\n",
       "      <td>0</td>\n",
       "      <td>Yes</td>\n",
       "      <td>19066</td>\n",
       "    </tr>\n",
       "    <tr>\n",
       "      <th>2</th>\n",
       "      <td>1</td>\n",
       "      <td>No</td>\n",
       "      <td>8221</td>\n",
       "    </tr>\n",
       "    <tr>\n",
       "      <th>3</th>\n",
       "      <td>1</td>\n",
       "      <td>Yes</td>\n",
       "      <td>2570</td>\n",
       "    </tr>\n",
       "  </tbody>\n",
       "</table>\n",
       "</div>"
      ],
      "text/plain": [
       "   scholarship no_show  count\n",
       "0            0      No  76924\n",
       "1            0     Yes  19066\n",
       "2            1      No   8221\n",
       "3            1     Yes   2570"
      ]
     },
     "execution_count": 23,
     "metadata": {},
     "output_type": "execute_result"
    }
   ],
   "source": [
    "no_show_df.groupby(\"scholarship\", as_index=False)[\"no_show\"].value_counts()"
   ]
  },
  {
   "cell_type": "code",
   "execution_count": 24,
   "metadata": {},
   "outputs": [
    {
     "data": {
      "image/png": "[encoded data removed]",
      "text/plain": [
       "<Figure size 432x288 with 1 Axes>"
      ]
     },
     "metadata": {
      "needs_background": "light"
     },
     "output_type": "display_data"
    }
   ],
   "source": [
    "sns.countplot(x= no_show_df.scholarship, hue=no_show_df.no_show)\n",
    "plt.title(\"scholarship/noscholarship\")\n",
    "plt.xlabel(\"Does patient have scholarship?\")\n",
    "plt.ylabel(\"Number of Scholarship\")\n",
    "figsize=(10,10)"
   ]
  },
  {
   "cell_type": "markdown",
   "metadata": {},
   "source": [
    "From using the groupby and value_counts methods, it can be seen that patients with sholarships did not show up more for appointments. As \"No\" in the table above represents those that showed up and \"Yes\" for those that did not show. it can be seen that more people without scholarship showed up more, this could be because there are more people without scholarship. The mean could be use to find answer to this question and also use proportions and percentages to be certain. \n",
    "First, start with the mean.\n",
    "\n"
   ]
  },
  {
   "cell_type": "code",
   "execution_count": 25,
   "metadata": {},
   "outputs": [
    {
     "data": {
      "text/plain": [
       "0.09655293910388162"
      ]
     },
     "execution_count": 25,
     "metadata": {},
     "output_type": "execute_result"
    }
   ],
   "source": [
    "no_show_df.scholarship[showed_up].mean()"
   ]
  },
  {
   "cell_type": "code",
   "execution_count": 26,
   "metadata": {},
   "outputs": [
    {
     "data": {
      "text/plain": [
       "0.11878350896653725"
      ]
     },
     "execution_count": 26,
     "metadata": {},
     "output_type": "execute_result"
    }
   ],
   "source": [
    "no_show_df.scholarship[did_not_show].mean()"
   ]
  },
  {
   "cell_type": "markdown",
   "metadata": {},
   "source": [
    "From using the mean of scholarship values of the patients that showed and those that did not show. it can be seen that patients that had scholarships likely did not show up for their appointments.\n"
   ]
  },
  {
   "cell_type": "markdown",
   "metadata": {},
   "source": [
    "To calculate the percentage of patients that had no scholarship and showed up to the the all the patients that had no scolarships. the loc and query mthods would be use. First, a function will be created to  counts the rows of that returns the rows specified in the loc method and the query method.\n",
    "\"no_schol_show\" represents the patients that did not have scholarship but showed up.\n",
    "\"total_no_show\" total number of patients that did not have scholarship. \n"
   ]
  },
  {
   "cell_type": "code",
   "execution_count": 27,
   "metadata": {},
   "outputs": [],
   "source": [
    "def counts_rows(loc_condition, query_request):\n",
    "    '''counts the rows of that returns the rows specified by the loc_condition in the loc method and the query_request in the query method.'''\n",
    "    counts = no_show_df.loc[loc_condition].query(query_request).value_counts().sum()\n",
    "    return counts\n",
    "    "
   ]
  },
  {
   "cell_type": "code",
   "execution_count": 28,
   "metadata": {},
   "outputs": [
    {
     "data": {
      "text/plain": [
       "80.13751432440878"
      ]
     },
     "execution_count": 28,
     "metadata": {},
     "output_type": "execute_result"
    }
   ],
   "source": [
    "no_schol_show = counts_rows(showed_up, \"scholarship == 0\")\n",
    "total_no_schol = no_show_df.query(\"scholarship == 0\").count()[1]\n",
    "(no_schol_show/total_no_schol)*100"
   ]
  },
  {
   "cell_type": "code",
   "execution_count": 29,
   "metadata": {},
   "outputs": [
    {
     "data": {
      "text/plain": [
       "76.18385691780188"
      ]
     },
     "execution_count": 29,
     "metadata": {},
     "output_type": "execute_result"
    }
   ],
   "source": [
    "schol_show = counts_rows(showed_up, \"scholarship == 1\")\n",
    "total_schol = no_show_df.query(\"scholarship == 1\").count()[1]\n",
    "(schol_show/total_schol)*100"
   ]
  },
  {
   "cell_type": "markdown",
   "metadata": {},
   "source": [
    "The percentage of patients that had scholarship and showed up to the number of patients that had scholarship is 76.18% which is less than those than those that did not have scholarship and showed up, which has a percentage of 80.14%. This means that more patients with out scholarship showed up more.\n",
    "\n",
    "\n",
    "### Research Question 3 : WHAT LOCATION HAS THE HIGHEST PATIENTS THAT SHOWED UP TO APPOINTMENTS AND WHAT LOCATION HAD THE LEAST?"
   ]
  },
  {
   "cell_type": "code",
   "execution_count": 30,
   "metadata": {},
   "outputs": [
    {
     "data": {
      "text/plain": [
       "81"
      ]
     },
     "execution_count": 30,
     "metadata": {},
     "output_type": "execute_result"
    }
   ],
   "source": [
    "no_show_df.neighbourhood.nunique()"
   ]
  },
  {
   "cell_type": "markdown",
   "metadata": {},
   "source": [
    "nunique is a pandas method that returns the number of unique valuse in a column. this means there are 81 neighbourhoods where hospitals are located."
   ]
  },
  {
   "cell_type": "code",
   "execution_count": 31,
   "metadata": {},
   "outputs": [
    {
     "data": {
      "text/plain": [
       "JARDIM CAMBURI       6154\n",
       "MARIA ORTIZ          4368\n",
       "RESISTÊNCIA          3352\n",
       "JARDIM DA PENHA      3219\n",
       "CENTRO               2588\n",
       "                     ... \n",
       "PONTAL DE CAMBURI      57\n",
       "ILHA DO BOI            32\n",
       "ILHA DO FRADE           8\n",
       "AEROPORTO               7\n",
       "PARQUE INDUSTRIAL       1\n",
       "Name: neighbourhood, Length: 80, dtype: int64"
      ]
     },
     "execution_count": 31,
     "metadata": {},
     "output_type": "execute_result"
    }
   ],
   "source": [
    "no_show_df.loc[showed_up][\"neighbourhood\"].value_counts()"
   ]
  },
  {
   "cell_type": "code",
   "execution_count": 32,
   "metadata": {},
   "outputs": [
    {
     "name": "stdout",
     "output_type": "stream",
     "text": [
      "ILHAS OCEÂNICAS DE TRINDADE\n"
     ]
    }
   ],
   "source": [
    "# because the length is the output above is 80 which means one neighbourhood did not have any patients that showed up\n",
    "for value in no_show_df.neighbourhood.unique():\n",
    "    if value not in  no_show_df.loc[showed_up][\"neighbourhood\"].unique(): \n",
    "         print(value)\n",
    "   "
   ]
  },
  {
   "cell_type": "markdown",
   "metadata": {},
   "source": [
    "Out of 81 hospitals locations, it can be seen that the hospital in JARDIM CAMBURI has the highest number of patients that showed up to appointments and  the hospital at 'ILHAS OCEÂNICAS DE TRINDADE' did not have any patients that showed up. \n",
    "\n",
    "### Research Question 4 : WHAT LOCATION HAD THE HIGHEST NUMBER OF PATIENTS THAT DID NOT SHOW UP AND WHAT LOCATION HAD THE LEAST?"
   ]
  },
  {
   "cell_type": "code",
   "execution_count": 33,
   "metadata": {},
   "outputs": [
    {
     "data": {
      "text/plain": [
       "JARDIM CAMBURI                 1432\n",
       "MARIA ORTIZ                    1194\n",
       "ITARARÉ                         896\n",
       "RESISTÊNCIA                     872\n",
       "CENTRO                          690\n",
       "                               ... \n",
       "PONTAL DE CAMBURI                12\n",
       "ILHA DO BOI                       3\n",
       "ILHAS OCEÂNICAS DE TRINDADE       2\n",
       "ILHA DO FRADE                     2\n",
       "AEROPORTO                         1\n",
       "Name: neighbourhood, Length: 80, dtype: int64"
      ]
     },
     "execution_count": 33,
     "metadata": {},
     "output_type": "execute_result"
    }
   ],
   "source": [
    "no_show_df.loc[did_not_show][\"neighbourhood\"].value_counts()"
   ]
  },
  {
   "cell_type": "code",
   "execution_count": 34,
   "metadata": {},
   "outputs": [
    {
     "name": "stdout",
     "output_type": "stream",
     "text": [
      "PARQUE INDUSTRIAL\n"
     ]
    }
   ],
   "source": [
    "# because the length is the output above is 80 which means one neighbourhood did not have any patients that  did not show up\n",
    "for value in no_show_df.neighbourhood.unique():\n",
    "    if value not in  no_show_df.loc[did_not_show][\"neighbourhood\"].unique(): \n",
    "         print(value)\n",
    "   "
   ]
  },
  {
   "cell_type": "markdown",
   "metadata": {},
   "source": [
    "Out of 81 hospitals locations, it can be seen that the hospital in JARDIM CAMBURI has the highest number of patients that DID NOT showed up to appointments and  the hospital at PARQUE INDUSTRIAL had the least number of patients that DID NOT showed up for appointments.\n",
    "\n",
    "### Research Question 5 : HOW MANY PATIENTS RECEIVED SMS_MESSAGES BEFORE THEIR APPOINTMENTS?\n",
    "The query method is used to get the rows that resecived sms which is represented with 1 in their column. the value_count method counts the number of rows and sum() adds them alltogether. \n"
   ]
  },
  {
   "cell_type": "code",
   "execution_count": 35,
   "metadata": {},
   "outputs": [
    {
     "data": {
      "text/plain": [
       "34537"
      ]
     },
     "execution_count": 35,
     "metadata": {},
     "output_type": "execute_result"
    }
   ],
   "source": [
    "no_show_df.query(\"sms_received == 1\").value_counts().sum()"
   ]
  },
  {
   "cell_type": "markdown",
   "metadata": {},
   "source": [
    "Only 34,537 of patients received sms before their appointments. This means that patients who did not receive sms are more than those that received because the dataset contains over 100,000 patients and only 34,537 patients received."
   ]
  },
  {
   "cell_type": "markdown",
   "metadata": {},
   "source": [
    "### Research Question 6 :  FROM PATIENTS THAT RECEIVED SMS, HOW MANY OF THE PATIENTS SHOWED UP AND HOW MANY DID NOT? \n"
   ]
  },
  {
   "cell_type": "markdown",
   "metadata": {},
   "source": [
    "First, a function will be created to  counts the rows of that returns the rows specified in the loc method and the query method."
   ]
  },
  {
   "cell_type": "code",
   "execution_count": 36,
   "metadata": {},
   "outputs": [],
   "source": [
    "def counts_rows(loc_condition, query_request):\n",
    "    '''counts the rows of that returns the rows specified by the loc_condition in the loc method and the query_request in the query method.'''\n",
    "    counts = no_show_df.loc[loc_condition].query(query_request).value_counts().sum()\n",
    "    return counts\n",
    "    "
   ]
  },
  {
   "cell_type": "code",
   "execution_count": null,
   "metadata": {},
   "outputs": [],
   "source": []
  },
  {
   "cell_type": "code",
   "execution_count": 37,
   "metadata": {},
   "outputs": [
    {
     "data": {
      "text/plain": [
       "24978"
      ]
     },
     "execution_count": 37,
     "metadata": {},
     "output_type": "execute_result"
    }
   ],
   "source": [
    "# get the counts of patients that received sms and showed up, the counts_rows function would be used.\n",
    "sms_query = \"sms_received == 1\" # this variable represents a statement to query the rows that received sms.\n",
    "received_show = counts_rows(loc_condition=showed_up, query_request=sms_query)\n",
    "\n",
    "received_show"
   ]
  },
  {
   "cell_type": "code",
   "execution_count": 38,
   "metadata": {},
   "outputs": [
    {
     "data": {
      "text/plain": [
       "9559"
      ]
     },
     "execution_count": 38,
     "metadata": {},
     "output_type": "execute_result"
    }
   ],
   "source": [
    "# get the counts of patients that received sms and did not show up\n",
    "received_no_show = counts_rows(did_not_show, sms_query)\n",
    "received_no_show"
   ]
  },
  {
   "cell_type": "markdown",
   "metadata": {},
   "source": [
    "Lets visualize the data in a barplot."
   ]
  },
  {
   "cell_type": "code",
   "execution_count": 39,
   "metadata": {},
   "outputs": [
    {
     "data": {
      "image/png": "[encoded data removed]",
      "text/plain": [
       "<Figure size 432x288 with 1 Axes>"
      ]
     },
     "metadata": {
      "needs_background": "light"
     },
     "output_type": "display_data"
    }
   ],
   "source": [
    "locations = [1, 2]\n",
    "heights = [received_no_show, received_show]\n",
    "labels = ['NO_SHOW', 'SHOWED_UP']\n",
    "plt.bar(locations, heights, tick_label=labels)\n",
    "plt.title('GROUPING SMS_RECEIVED BY NO_SHOW')\n",
    "plt.xlabel('PATIENT SHOW?')\n",
    "plt.ylabel('NUMBER OF PATIENTS')\n",
    "figsize=(8,6);"
   ]
  },
  {
   "cell_type": "markdown",
   "metadata": {},
   "source": [
    "This shows most patients that received sms messages before their appointments showed up to the hospital."
   ]
  },
  {
   "cell_type": "markdown",
   "metadata": {},
   "source": [
    "###  Research Question 7: DID MOST OF THE PATIENTS WHO ARE HANICAPPED OR DISABLED SHOW UP FOR THEIR APPOINTMENTS?\n",
    "\n",
    "First we find the number of patients who are handicapped or disabled in the dataset"
   ]
  },
  {
   "cell_type": "code",
   "execution_count": 40,
   "metadata": {},
   "outputs": [
    {
     "data": {
      "text/plain": [
       "2037"
      ]
     },
     "execution_count": 40,
     "metadata": {},
     "output_type": "execute_result"
    }
   ],
   "source": [
    "no_show_df.query(\"handcap == 1\").value_counts().sum()"
   ]
  },
  {
   "cell_type": "markdown",
   "metadata": {},
   "source": [
    "2037 patients are disabled"
   ]
  },
  {
   "cell_type": "code",
   "execution_count": 41,
   "metadata": {},
   "outputs": [
    {
     "data": {
      "text/plain": [
       "1674"
      ]
     },
     "execution_count": 41,
     "metadata": {},
     "output_type": "execute_result"
    }
   ],
   "source": [
    "# to get the number of patients that is disabled and showed up the counts_rows function can be used.\n",
    "is_disabled = \"handcap == 1\"\n",
    "handcap_show = counts_rows(showed_up, is_disabled)\n",
    "handcap_show"
   ]
  },
  {
   "cell_type": "markdown",
   "metadata": {},
   "source": [
    "handcap_show represents patients that are handicapped and also showed up. The handcap_show gave an output of 1674 which means that out of 2,037 patients that are disabled, 1,674 of them showed up. This shows most of the patients that are handicapped showed up for thir appointments."
   ]
  },
  {
   "cell_type": "markdown",
   "metadata": {},
   "source": [
    "### Research Question 8: HOW MANY PATIENTS HAVE DIABETES AND HOW MANY DID NOT SHOW UP FOR APPOINTMENTS?"
   ]
  },
  {
   "cell_type": "code",
   "execution_count": 42,
   "metadata": {},
   "outputs": [
    {
     "data": {
      "text/plain": [
       "7900"
      ]
     },
     "execution_count": 42,
     "metadata": {},
     "output_type": "execute_result"
    }
   ],
   "source": [
    "no_show_df.query(\"diabetes == 1\").value_counts().sum()"
   ]
  },
  {
   "cell_type": "markdown",
   "metadata": {},
   "source": [
    "7900 patients have diabetes. The functions that was used are the query, value_counts and the sum which add all the columns together. to get the number of patients thet did not show up the \"did_not_show\" variable is passed into the loc function and is added to the function above."
   ]
  },
  {
   "cell_type": "code",
   "execution_count": 43,
   "metadata": {},
   "outputs": [
    {
     "data": {
      "text/plain": [
       "1422"
      ]
     },
     "execution_count": 43,
     "metadata": {},
     "output_type": "execute_result"
    }
   ],
   "source": [
    "# to get the number of patients that suffer from diabetes and did not show up the counts_rows function can be used.\n",
    "has_diabetes = \"diabetes == 1\"\n",
    "counts_rows(did_not_show, has_diabetes)\n"
   ]
  },
  {
   "cell_type": "markdown",
   "metadata": {},
   "source": [
    "1422 patients that had diabetes did not show up."
   ]
  },
  {
   "cell_type": "markdown",
   "metadata": {},
   "source": [
    "### Research Question 9:HOW MANY PATIENTS HAVE ALCOHOLISM AND DID MOST SHOW UP FOR APPOINTMENTS?\n",
    "To answer this question, same methods use in question 6 and 7 will be used"
   ]
  },
  {
   "cell_type": "code",
   "execution_count": 44,
   "metadata": {},
   "outputs": [
    {
     "data": {
      "text/plain": [
       "3352"
      ]
     },
     "execution_count": 44,
     "metadata": {},
     "output_type": "execute_result"
    }
   ],
   "source": [
    "no_show_df.query(\"alcoholism == 1\").value_counts().sum()"
   ]
  },
  {
   "cell_type": "markdown",
   "metadata": {},
   "source": [
    "3352 patients suffer from alcoholism."
   ]
  },
  {
   "cell_type": "code",
   "execution_count": 45,
   "metadata": {},
   "outputs": [
    {
     "data": {
      "text/plain": [
       "2677"
      ]
     },
     "execution_count": 45,
     "metadata": {},
     "output_type": "execute_result"
    }
   ],
   "source": [
    "# to get the number of patients that suffer from alcoholism and showed up the counts_rows function can be used.\n",
    "has_alcoholism = \"alcoholism == 1\"\n",
    "counts_rows(showed_up, has_alcoholism)"
   ]
  },
  {
   "cell_type": "markdown",
   "metadata": {},
   "source": [
    "Most of the patients that suffer from alcoholism, showed up to their appointments."
   ]
  },
  {
   "cell_type": "markdown",
   "metadata": {},
   "source": [
    "### Research Question 10: WHAT ARE THE PERCENTAGES OF PATIENTS THAT SHOWED UP AND THOSE THAT DID NOT?\n",
    "A pie chart would be a good way to viualize this. "
   ]
  },
  {
   "cell_type": "code",
   "execution_count": 46,
   "metadata": {},
   "outputs": [
    {
     "data": {
      "image/png": "[encoded data removed]",
      "text/plain": [
       "<Figure size 432x288 with 1 Axes>"
      ]
     },
     "metadata": {},
     "output_type": "display_data"
    }
   ],
   "source": [
    "plt.pie(no_show_df.no_show.value_counts(), labels=[\"showed_up\", \"no_show\"], autopct=\"%1.1f%%\")\n",
    "plt.title(\"percentage of patients that showed up and those that did not\")\n",
    "figsize=(15,15);"
   ]
  },
  {
   "cell_type": "markdown",
   "metadata": {},
   "source": [
    "79.7% of patients showed up for appointments and 20.3% of patients did not show up for appointments\n",
    "\n",
    "### Research Question 10:  DO OLDER PEOPLE SHOW UP MORE FOR APPOINTMENTS?\n",
    "\n",
    "We have to find the median age first using pandas median function, young patients would represent patients who age are less than than the median age. older patients are patients whose age are equal or greater than the median age."
   ]
  },
  {
   "cell_type": "code",
   "execution_count": 47,
   "metadata": {},
   "outputs": [],
   "source": [
    "median = no_show_df.age.median()\n",
    "young = no_show_df.query('age < {}'.format(median))\n",
    "older = no_show_df.query('age >= {}'.format(median))"
   ]
  },
  {
   "cell_type": "markdown",
   "metadata": {},
   "source": [
    "Next, we find the value count of the no_show column for both young and older groups. The no_show column has two options \"No\" and \"Yes\". \"No\" represents showed up and \"Yes\" represents did not show up."
   ]
  },
  {
   "cell_type": "code",
   "execution_count": 48,
   "metadata": {},
   "outputs": [
    {
     "data": {
      "text/plain": [
       "No     40383\n",
       "Yes    12109\n",
       "Name: no_show, dtype: int64"
      ]
     },
     "execution_count": 48,
     "metadata": {},
     "output_type": "execute_result"
    }
   ],
   "source": [
    "# YOUNG PATIENTS\n",
    "young.no_show.value_counts()"
   ]
  },
  {
   "cell_type": "code",
   "execution_count": 49,
   "metadata": {},
   "outputs": [
    {
     "data": {
      "text/plain": [
       "No     44762\n",
       "Yes     9527\n",
       "Name: no_show, dtype: int64"
      ]
     },
     "execution_count": 49,
     "metadata": {},
     "output_type": "execute_result"
    }
   ],
   "source": [
    "# OLDER PATIENTS\n",
    "older.no_show.value_counts()\n"
   ]
  },
  {
   "cell_type": "markdown",
   "metadata": {},
   "source": [
    "We are going to visualize the each of the outputs by plotting a grouped bar chart. To that I will need to create a dictionary of these outputs which i will convert into a dataframe."
   ]
  },
  {
   "cell_type": "code",
   "execution_count": 50,
   "metadata": {},
   "outputs": [
    {
     "data": {
      "text/html": [
       "<div>\n",
       "<style scoped>\n",
       "    .dataframe tbody tr th:only-of-type {\n",
       "        vertical-align: middle;\n",
       "    }\n",
       "\n",
       "    .dataframe tbody tr th {\n",
       "        vertical-align: top;\n",
       "    }\n",
       "\n",
       "    .dataframe thead th {\n",
       "        text-align: right;\n",
       "    }\n",
       "</style>\n",
       "<table border=\"1\" class=\"dataframe\">\n",
       "  <thead>\n",
       "    <tr style=\"text-align: right;\">\n",
       "      <th></th>\n",
       "      <th>Age_Category</th>\n",
       "      <th>No</th>\n",
       "      <th>Yes</th>\n",
       "    </tr>\n",
       "  </thead>\n",
       "  <tbody>\n",
       "    <tr>\n",
       "      <th>0</th>\n",
       "      <td>Young</td>\n",
       "      <td>40383</td>\n",
       "      <td>12109</td>\n",
       "    </tr>\n",
       "    <tr>\n",
       "      <th>1</th>\n",
       "      <td>older</td>\n",
       "      <td>44762</td>\n",
       "      <td>9527</td>\n",
       "    </tr>\n",
       "  </tbody>\n",
       "</table>\n",
       "</div>"
      ],
      "text/plain": [
       "  Age_Category     No    Yes\n",
       "0        Young  40383  12109\n",
       "1        older  44762   9527"
      ]
     },
     "execution_count": 50,
     "metadata": {},
     "output_type": "execute_result"
    }
   ],
   "source": [
    "data_dict = {\"Age_Category\": [\"Young\",\"older\"], \"No\":[40383, 44762], \"Yes\":[12109, 9527]}\n",
    "# convert to dataframe\n",
    "age_df = pd.DataFrame(data_dict)\n",
    "age_df"
   ]
  },
  {
   "cell_type": "markdown",
   "metadata": {},
   "source": [
    "Next a grouped bar chart will be plotted with the matplotlib."
   ]
  },
  {
   "cell_type": "code",
   "execution_count": 51,
   "metadata": {},
   "outputs": [
    {
     "data": {
      "image/png": "[encoded data removed]",
      "text/plain": [
       "<Figure size 576x432 with 1 Axes>"
      ]
     },
     "metadata": {},
     "output_type": "display_data"
    }
   ],
   "source": [
    "plt.style.use(\"fivethirtyeight\")\n",
    "#create the base axis to add the bars to\n",
    "fig, ax = plt.subplots(1, 1, figsize=(8,6))\n",
    "#get labels\n",
    "label = age_df[\"Age_Category\"]\n",
    "# create x ticks to add the data to\n",
    "x = np.arange(len(label))\n",
    "# set width\n",
    "width = 0.3\n",
    "# create first bar\n",
    "bar_1 = ax.bar(x - width/2, age_df[\"No\"], width=width, label=\"No\", edgecolor=\"black\")\n",
    "# create second bar\n",
    "bar_2 = ax.bar(x + width/2, age_df[\"Yes\"], width=width, label=\"Yes\", edgecolor=\"black\")\n",
    "# add label to the axis\n",
    "ax.set_ylabel(\"Number of Patients\", fontsize=20, labelpad=20)\n",
    "ax.set_xlabel(\"Age Category\", fontsize=20, labelpad=20)\n",
    "ax.set_title(\"Number of patients who showed up by age category\", fontsize=30, pad=20)\n",
    "\n",
    "#set the ticks\n",
    "ax.set_xticks(x)\n",
    "ax.set_xticklabels(label)\n",
    "\n",
    "#legend\n",
    "ax.legend(title=\"No Show\", fontsize=15, title_fontsize= 20)\n",
    "plt.show()"
   ]
  },
  {
   "cell_type": "markdown",
   "metadata": {},
   "source": [
    "From the visualizations, it can be seen that older patients show up more to appointments than young patients and number of young patients that do not show up for appointments is more than that of older patients.\n",
    "\n",
    "\n"
   ]
  },
  {
   "cell_type": "markdown",
   "metadata": {},
   "source": [
    "### Research Question 11: WHAT DAY OF THE WEEK DID MOST PATIENTS SHOW UP? AND IS THE DAY  ON A WEEKDAY OR A WEEKEND?\n",
    "\n",
    "To answer this question the pandas loc and value_counts methods will be use."
   ]
  },
  {
   "cell_type": "code",
   "execution_count": 52,
   "metadata": {},
   "outputs": [
    {
     "data": {
      "text/plain": [
       "Wednesday    20108\n",
       "Tuesday      19766\n",
       "Monday       17360\n",
       "Friday       14494\n",
       "Thursday     13387\n",
       "Saturday        30\n",
       "Name: day_of_appointment, dtype: int64"
      ]
     },
     "execution_count": 52,
     "metadata": {},
     "output_type": "execute_result"
    }
   ],
   "source": [
    "no_show_df.loc[showed_up][\"day_of_appointment\"].value_counts() "
   ]
  },
  {
   "cell_type": "markdown",
   "metadata": {},
   "source": [
    "From the output above 20108 patients showed on wednesdays which is the highest number of patients that showed up for appointments than anyday of the week.\n",
    "Most of the patients showed up on a Wednesday which is weekday."
   ]
  },
  {
   "cell_type": "markdown",
   "metadata": {},
   "source": [
    "### Research Question 12: WHAT DAY OF THE WEEK HAD THE HIGHEST NUMBER OF PATIENTS THAT DID NOT SHOW UP?"
   ]
  },
  {
   "cell_type": "code",
   "execution_count": 53,
   "metadata": {},
   "outputs": [
    {
     "data": {
      "text/plain": [
       "Tuesday      5008\n",
       "Wednesday    4939\n",
       "Monday       4505\n",
       "Friday       3936\n",
       "Thursday     3239\n",
       "Saturday        9\n",
       "Name: day_of_appointment, dtype: int64"
      ]
     },
     "execution_count": 53,
     "metadata": {},
     "output_type": "execute_result"
    }
   ],
   "source": [
    "no_show_df.loc[did_not_show][\"day_of_appointment\"].value_counts() "
   ]
  },
  {
   "cell_type": "markdown",
   "metadata": {},
   "source": [
    "Tuesday had the highest number of patients that did not show up for appointments."
   ]
  },
  {
   "cell_type": "markdown",
   "metadata": {},
   "source": [
    "### Research Question 13: WHAT ARE THE FEATURES OF PATIENTS THAT DID NOT SHOW UP TO APPOINTMENTS AND PATIENTS THAT SHOWED UP FOR APPOINTMENTS?\n",
    "The describe function will be used on the data frame containing rows of where the no_show column is \"Yes\" this was saved with the variable \"did_not_show\" "
   ]
  },
  {
   "cell_type": "code",
   "execution_count": 54,
   "metadata": {},
   "outputs": [
    {
     "data": {
      "text/html": [
       "<div>\n",
       "<style scoped>\n",
       "    .dataframe tbody tr th:only-of-type {\n",
       "        vertical-align: middle;\n",
       "    }\n",
       "\n",
       "    .dataframe tbody tr th {\n",
       "        vertical-align: top;\n",
       "    }\n",
       "\n",
       "    .dataframe thead th {\n",
       "        text-align: right;\n",
       "    }\n",
       "</style>\n",
       "<table border=\"1\" class=\"dataframe\">\n",
       "  <thead>\n",
       "    <tr style=\"text-align: right;\">\n",
       "      <th></th>\n",
       "      <th>patient_id</th>\n",
       "      <th>appointment_id</th>\n",
       "      <th>age</th>\n",
       "      <th>scholarship</th>\n",
       "      <th>hypertension</th>\n",
       "      <th>diabetes</th>\n",
       "      <th>alcoholism</th>\n",
       "      <th>handcap</th>\n",
       "      <th>sms_received</th>\n",
       "    </tr>\n",
       "  </thead>\n",
       "  <tbody>\n",
       "    <tr>\n",
       "      <th>count</th>\n",
       "      <td>2.163600e+04</td>\n",
       "      <td>2.163600e+04</td>\n",
       "      <td>21636.000000</td>\n",
       "      <td>21636.000000</td>\n",
       "      <td>21636.000000</td>\n",
       "      <td>21636.000000</td>\n",
       "      <td>21636.000000</td>\n",
       "      <td>21636.000000</td>\n",
       "      <td>21636.000000</td>\n",
       "    </tr>\n",
       "    <tr>\n",
       "      <th>mean</th>\n",
       "      <td>1.468223e+14</td>\n",
       "      <td>5.652583e+06</td>\n",
       "      <td>35.280320</td>\n",
       "      <td>0.118784</td>\n",
       "      <td>0.173230</td>\n",
       "      <td>0.065724</td>\n",
       "      <td>0.031198</td>\n",
       "      <td>0.016778</td>\n",
       "      <td>0.441810</td>\n",
       "    </tr>\n",
       "    <tr>\n",
       "      <th>std</th>\n",
       "      <td>2.549772e+14</td>\n",
       "      <td>7.432842e+04</td>\n",
       "      <td>21.419976</td>\n",
       "      <td>0.323541</td>\n",
       "      <td>0.378455</td>\n",
       "      <td>0.247804</td>\n",
       "      <td>0.173857</td>\n",
       "      <td>0.128440</td>\n",
       "      <td>0.496614</td>\n",
       "    </tr>\n",
       "    <tr>\n",
       "      <th>min</th>\n",
       "      <td>5.628261e+06</td>\n",
       "      <td>5.122866e+06</td>\n",
       "      <td>1.000000</td>\n",
       "      <td>0.000000</td>\n",
       "      <td>0.000000</td>\n",
       "      <td>0.000000</td>\n",
       "      <td>0.000000</td>\n",
       "      <td>0.000000</td>\n",
       "      <td>0.000000</td>\n",
       "    </tr>\n",
       "    <tr>\n",
       "      <th>25%</th>\n",
       "      <td>4.188006e+12</td>\n",
       "      <td>5.614257e+06</td>\n",
       "      <td>18.000000</td>\n",
       "      <td>0.000000</td>\n",
       "      <td>0.000000</td>\n",
       "      <td>0.000000</td>\n",
       "      <td>0.000000</td>\n",
       "      <td>0.000000</td>\n",
       "      <td>0.000000</td>\n",
       "    </tr>\n",
       "    <tr>\n",
       "      <th>50%</th>\n",
       "      <td>3.159506e+13</td>\n",
       "      <td>5.658434e+06</td>\n",
       "      <td>33.000000</td>\n",
       "      <td>0.000000</td>\n",
       "      <td>0.000000</td>\n",
       "      <td>0.000000</td>\n",
       "      <td>0.000000</td>\n",
       "      <td>0.000000</td>\n",
       "      <td>0.000000</td>\n",
       "    </tr>\n",
       "    <tr>\n",
       "      <th>75%</th>\n",
       "      <td>9.455836e+13</td>\n",
       "      <td>5.703487e+06</td>\n",
       "      <td>52.000000</td>\n",
       "      <td>0.000000</td>\n",
       "      <td>0.000000</td>\n",
       "      <td>0.000000</td>\n",
       "      <td>0.000000</td>\n",
       "      <td>0.000000</td>\n",
       "      <td>1.000000</td>\n",
       "    </tr>\n",
       "    <tr>\n",
       "      <th>max</th>\n",
       "      <td>9.996585e+14</td>\n",
       "      <td>5.789979e+06</td>\n",
       "      <td>98.000000</td>\n",
       "      <td>1.000000</td>\n",
       "      <td>1.000000</td>\n",
       "      <td>1.000000</td>\n",
       "      <td>1.000000</td>\n",
       "      <td>1.000000</td>\n",
       "      <td>1.000000</td>\n",
       "    </tr>\n",
       "  </tbody>\n",
       "</table>\n",
       "</div>"
      ],
      "text/plain": [
       "         patient_id  appointment_id           age   scholarship  hypertension  \\\n",
       "count  2.163600e+04    2.163600e+04  21636.000000  21636.000000  21636.000000   \n",
       "mean   1.468223e+14    5.652583e+06     35.280320      0.118784      0.173230   \n",
       "std    2.549772e+14    7.432842e+04     21.419976      0.323541      0.378455   \n",
       "min    5.628261e+06    5.122866e+06      1.000000      0.000000      0.000000   \n",
       "25%    4.188006e+12    5.614257e+06     18.000000      0.000000      0.000000   \n",
       "50%    3.159506e+13    5.658434e+06     33.000000      0.000000      0.000000   \n",
       "75%    9.455836e+13    5.703487e+06     52.000000      0.000000      0.000000   \n",
       "max    9.996585e+14    5.789979e+06     98.000000      1.000000      1.000000   \n",
       "\n",
       "           diabetes    alcoholism       handcap  sms_received  \n",
       "count  21636.000000  21636.000000  21636.000000  21636.000000  \n",
       "mean       0.065724      0.031198      0.016778      0.441810  \n",
       "std        0.247804      0.173857      0.128440      0.496614  \n",
       "min        0.000000      0.000000      0.000000      0.000000  \n",
       "25%        0.000000      0.000000      0.000000      0.000000  \n",
       "50%        0.000000      0.000000      0.000000      0.000000  \n",
       "75%        0.000000      0.000000      0.000000      1.000000  \n",
       "max        1.000000      1.000000      1.000000      1.000000  "
      ]
     },
     "execution_count": 54,
     "metadata": {},
     "output_type": "execute_result"
    }
   ],
   "source": [
    "no_show_df.loc[did_not_show].describe()"
   ]
  },
  {
   "cell_type": "markdown",
   "metadata": {},
   "source": [
    "The describe function will be used on the data frame containing rows of where the no_show column is \"No\" this was saved with the variable \"showed_up\""
   ]
  },
  {
   "cell_type": "code",
   "execution_count": 55,
   "metadata": {},
   "outputs": [
    {
     "data": {
      "text/html": [
       "<div>\n",
       "<style scoped>\n",
       "    .dataframe tbody tr th:only-of-type {\n",
       "        vertical-align: middle;\n",
       "    }\n",
       "\n",
       "    .dataframe tbody tr th {\n",
       "        vertical-align: top;\n",
       "    }\n",
       "\n",
       "    .dataframe thead th {\n",
       "        text-align: right;\n",
       "    }\n",
       "</style>\n",
       "<table border=\"1\" class=\"dataframe\">\n",
       "  <thead>\n",
       "    <tr style=\"text-align: right;\">\n",
       "      <th></th>\n",
       "      <th>patient_id</th>\n",
       "      <th>appointment_id</th>\n",
       "      <th>age</th>\n",
       "      <th>scholarship</th>\n",
       "      <th>hypertension</th>\n",
       "      <th>diabetes</th>\n",
       "      <th>alcoholism</th>\n",
       "      <th>handcap</th>\n",
       "      <th>sms_received</th>\n",
       "    </tr>\n",
       "  </thead>\n",
       "  <tbody>\n",
       "    <tr>\n",
       "      <th>count</th>\n",
       "      <td>8.514500e+04</td>\n",
       "      <td>8.514500e+04</td>\n",
       "      <td>85145.000000</td>\n",
       "      <td>85145.000000</td>\n",
       "      <td>85145.000000</td>\n",
       "      <td>85145.000000</td>\n",
       "      <td>85145.000000</td>\n",
       "      <td>85145.000000</td>\n",
       "      <td>85145.000000</td>\n",
       "    </tr>\n",
       "    <tr>\n",
       "      <th>mean</th>\n",
       "      <td>1.474281e+14</td>\n",
       "      <td>5.681231e+06</td>\n",
       "      <td>39.060438</td>\n",
       "      <td>0.096553</td>\n",
       "      <td>0.211017</td>\n",
       "      <td>0.076082</td>\n",
       "      <td>0.031440</td>\n",
       "      <td>0.019661</td>\n",
       "      <td>0.293358</td>\n",
       "    </tr>\n",
       "    <tr>\n",
       "      <th>std</th>\n",
       "      <td>2.560853e+14</td>\n",
       "      <td>6.936851e+04</td>\n",
       "      <td>22.635787</td>\n",
       "      <td>0.295350</td>\n",
       "      <td>0.408032</td>\n",
       "      <td>0.265131</td>\n",
       "      <td>0.174506</td>\n",
       "      <td>0.138832</td>\n",
       "      <td>0.455304</td>\n",
       "    </tr>\n",
       "    <tr>\n",
       "      <th>min</th>\n",
       "      <td>3.921784e+04</td>\n",
       "      <td>5.030230e+06</td>\n",
       "      <td>1.000000</td>\n",
       "      <td>0.000000</td>\n",
       "      <td>0.000000</td>\n",
       "      <td>0.000000</td>\n",
       "      <td>0.000000</td>\n",
       "      <td>0.000000</td>\n",
       "      <td>0.000000</td>\n",
       "    </tr>\n",
       "    <tr>\n",
       "      <th>25%</th>\n",
       "      <td>4.169965e+12</td>\n",
       "      <td>5.646449e+06</td>\n",
       "      <td>20.000000</td>\n",
       "      <td>0.000000</td>\n",
       "      <td>0.000000</td>\n",
       "      <td>0.000000</td>\n",
       "      <td>0.000000</td>\n",
       "      <td>0.000000</td>\n",
       "      <td>0.000000</td>\n",
       "    </tr>\n",
       "    <tr>\n",
       "      <th>50%</th>\n",
       "      <td>3.175832e+13</td>\n",
       "      <td>5.685849e+06</td>\n",
       "      <td>39.000000</td>\n",
       "      <td>0.000000</td>\n",
       "      <td>0.000000</td>\n",
       "      <td>0.000000</td>\n",
       "      <td>0.000000</td>\n",
       "      <td>0.000000</td>\n",
       "      <td>0.000000</td>\n",
       "    </tr>\n",
       "    <tr>\n",
       "      <th>75%</th>\n",
       "      <td>9.423372e+13</td>\n",
       "      <td>5.731147e+06</td>\n",
       "      <td>57.000000</td>\n",
       "      <td>0.000000</td>\n",
       "      <td>0.000000</td>\n",
       "      <td>0.000000</td>\n",
       "      <td>0.000000</td>\n",
       "      <td>0.000000</td>\n",
       "      <td>1.000000</td>\n",
       "    </tr>\n",
       "    <tr>\n",
       "      <th>max</th>\n",
       "      <td>9.999816e+14</td>\n",
       "      <td>5.790484e+06</td>\n",
       "      <td>100.000000</td>\n",
       "      <td>1.000000</td>\n",
       "      <td>1.000000</td>\n",
       "      <td>1.000000</td>\n",
       "      <td>1.000000</td>\n",
       "      <td>1.000000</td>\n",
       "      <td>1.000000</td>\n",
       "    </tr>\n",
       "  </tbody>\n",
       "</table>\n",
       "</div>"
      ],
      "text/plain": [
       "         patient_id  appointment_id           age   scholarship  hypertension  \\\n",
       "count  8.514500e+04    8.514500e+04  85145.000000  85145.000000  85145.000000   \n",
       "mean   1.474281e+14    5.681231e+06     39.060438      0.096553      0.211017   \n",
       "std    2.560853e+14    6.936851e+04     22.635787      0.295350      0.408032   \n",
       "min    3.921784e+04    5.030230e+06      1.000000      0.000000      0.000000   \n",
       "25%    4.169965e+12    5.646449e+06     20.000000      0.000000      0.000000   \n",
       "50%    3.175832e+13    5.685849e+06     39.000000      0.000000      0.000000   \n",
       "75%    9.423372e+13    5.731147e+06     57.000000      0.000000      0.000000   \n",
       "max    9.999816e+14    5.790484e+06    100.000000      1.000000      1.000000   \n",
       "\n",
       "           diabetes    alcoholism       handcap  sms_received  \n",
       "count  85145.000000  85145.000000  85145.000000  85145.000000  \n",
       "mean       0.076082      0.031440      0.019661      0.293358  \n",
       "std        0.265131      0.174506      0.138832      0.455304  \n",
       "min        0.000000      0.000000      0.000000      0.000000  \n",
       "25%        0.000000      0.000000      0.000000      0.000000  \n",
       "50%        0.000000      0.000000      0.000000      0.000000  \n",
       "75%        0.000000      0.000000      0.000000      1.000000  \n",
       "max        1.000000      1.000000      1.000000      1.000000  "
      ]
     },
     "execution_count": 55,
     "metadata": {},
     "output_type": "execute_result"
    }
   ],
   "source": [
    "show = no_show_df.loc[showed_up].describe()\n",
    "show"
   ]
  },
  {
   "cell_type": "markdown",
   "metadata": {},
   "source": [
    "From using decribe function to answer the question, the mean age of patients who showed up for apppointments is 39.06 and the maximum age is 100 years and the mean of patients who did not show up is 35.28 and the maximum age is 98. Most of the patients that showed up are more likely to have diabetes and hypertension which can be seen from their mean in the show variable. Most of the patients that showed up are likely did not have scholarships. Patients that did not show up likely received a sms message.\n",
    "    From looking at the outputs above 25th percentile and the 75th percentile of age of of patients who showed up for apppointments is 20 and 57 respectively (this means 25% of the values in age column is below 20 and also 25% of the age values lie above 57) is a bit older than the 25th percentile and 75th percentile of the patients that did not show up which is 18 and 52. \n",
    "   Also most of the patients in the dataset showed up."
   ]
  },
  {
   "cell_type": "markdown",
   "metadata": {},
   "source": [
    "<a id='conclusions'></a>\n",
    "## Conclusions\n",
    "\n",
    "From the Exploratory Data Analysis, these are the conclusions.\n",
    "<ul>\n",
    "<li> Patients with scholarships show up more to appointments than those without scholarships.</li>\n",
    "<li> Most of the Patients with diabetes show up for appointments.</li>\n",
    "<li> Most patients that recived sms before the their appointments showed up to their appointments</li>\n",
    "<li>Older patients show up more to their appointments than younger patients.</li>\n",
    "<li> The hospital neighbourhood that most patients showed up for their appointments is JARDIM CAMBURI</li>\n",
    "    <li>Most patients show up when the day of the week of their appointment is on Wednesday</li>\n",
    "    </ul>\n",
    "\n",
    "\n",
    "## LIMITATION\n",
    " The limitation in my exploration, Based on the gender column, we can see that there are more females than males in the dataset which there is a disproportion in the dataset in therms of gender.\n",
    "\n",
    "\n",
    "## REFERENCES\n",
    "\n",
    "<ul>\n",
    "    <li><a href=\"https://www.kaggle.com/datasets/joniarroba/noshowappointments\">Medical Appointment No Shows<a> </li>\n",
    "      <li><a href=\"https://realpython.com/python-pandas-tricks/\">Python Pandas: Tricks & Features You May Not Know<a></li>\n",
    " </ul>\n",
    "        \n",
    "\n"
   ]
  }
 ],
 "metadata": {
  "kernelspec": {
   "display_name": "Python 3 (ipykernel)",
   "language": "python",
   "name": "python3"
  },
  "language_info": {
   "codemirror_mode": {
    "name": "ipython",
    "version": 3
   },
   "file_extension": ".py",
   "mimetype": "text/x-python",
   "name": "python",
   "nbconvert_exporter": "python",
   "pygments_lexer": "ipython3",
   "version": "3.9.12"
  }
 },
 "nbformat": 4,
 "nbformat_minor": 2
}
